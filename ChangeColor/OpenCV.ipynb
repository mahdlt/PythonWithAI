{
 "nbformat": 4,
 "nbformat_minor": 0,
 "metadata": {
  "colab": {
   "provenance": []
  },
  "kernelspec": {
   "name": "python3",
   "language": "python",
   "display_name": "Python 3 (ipykernel)"
  },
  "language_info": {
   "name": "python"
  }
 },
 "cells": [
  {
   "cell_type": "markdown",
   "source": [
    "### In this code I extracted the thunder from the rest of the image and changed the color of image to blue"
   ],
   "metadata": {
    "collapsed": false
   }
  },
  {
   "cell_type": "code",
   "metadata": {
    "id": "QOUT2E2KxnmW",
    "ExecuteTime": {
     "end_time": "2023-09-06T14:15:22.742816400Z",
     "start_time": "2023-09-06T14:15:22.726825300Z"
    }
   },
   "source": [
    "# import libraries\n",
    "import cv2\n",
    "import numpy as np"
   ],
   "execution_count": 34,
   "outputs": []
  },
  {
   "cell_type": "code",
   "metadata": {
    "id": "8q6wuSo2t_q6",
    "ExecuteTime": {
     "end_time": "2023-09-06T14:15:23.235792100Z",
     "start_time": "2023-09-06T14:15:23.191818300Z"
    }
   },
   "source": [
    "# read the image with \n",
    "img = cv2.imread('raad.jpg')"
   ],
   "execution_count": 35,
   "outputs": []
  },
  {
   "cell_type": "code",
   "metadata": {
    "id": "RNLtlCJ3py3D",
    "ExecuteTime": {
     "end_time": "2023-09-06T14:15:23.643208900Z",
     "start_time": "2023-09-06T14:15:23.615227300Z"
    }
   },
   "source": [
    "# resize the image\n",
    "size = (img.shape[0]//2 , img.shape[1]//2)\n",
    "res = cv2.resize(img,size)"
   ],
   "execution_count": 36,
   "outputs": []
  },
  {
   "cell_type": "code",
   "metadata": {
    "id": "9tznloBxqEA3",
    "ExecuteTime": {
     "end_time": "2023-09-06T14:15:24.068781700Z",
     "start_time": "2023-09-06T14:15:24.041803200Z"
    }
   },
   "source": [
    "# threshold with value of 255\n",
    "# with this threshold we extract the thunder from the rest of image\n",
    "ret,img2 = cv2.threshold(res,210,255,cv2.THRESH_BINARY)\n",
    "ret,img3 = cv2.threshold(res,210,255,cv2.THRESH_BINARY)"
   ],
   "execution_count": 37,
   "outputs": []
  },
  {
   "cell_type": "code",
   "metadata": {
    "id": "kIaQOGgtqXT3",
    "ExecuteTime": {
     "end_time": "2023-09-06T14:15:24.438613900Z",
     "start_time": "2023-09-06T14:15:24.414592100Z"
    }
   },
   "source": [
    "# extracting the red part of thunder\n",
    "img2[:,:,0] = 0\n",
    "img2[:,:,1] = 0"
   ],
   "execution_count": 38,
   "outputs": []
  },
  {
   "cell_type": "code",
   "metadata": {
    "id": "1dIeofgiryaG",
    "ExecuteTime": {
     "end_time": "2023-09-06T14:15:25.212629Z",
     "start_time": "2023-09-06T14:15:25.159875600Z"
    }
   },
   "source": [
    "# mixing these parts with giving weights to them\n",
    "dst = np.uint8(70*img2 + 1*res + 70*img3)"
   ],
   "execution_count": 39,
   "outputs": []
  },
  {
   "cell_type": "code",
   "metadata": {
    "colab": {
     "base_uri": "https://localhost:8080/",
     "height": 557
    },
    "id": "MIpUKBn8oSNW",
    "outputId": "69902da4-4bee-488c-db56-7a0390d07b62",
    "ExecuteTime": {
     "end_time": "2023-09-06T14:15:29.100663900Z",
     "start_time": "2023-09-06T14:15:26.272733600Z"
    }
   },
   "source": [
    "# showing the result\n",
    "cv2.imshow(\"raad\", dst)\n",
    "cv2.waitKey(0)\n",
    "cv2.destroyAllWindows()"
   ],
   "execution_count": 40,
   "outputs": []
  },
  {
   "cell_type": "code",
   "metadata": {
    "colab": {
     "base_uri": "https://localhost:8080/"
    },
    "id": "HEmXrX70o5f6",
    "outputId": "45d28ac1-4b46-4673-fa2b-a6a9be212938",
    "ExecuteTime": {
     "end_time": "2023-09-06T14:15:30.506101300Z",
     "start_time": "2023-09-06T14:15:30.483120500Z"
    }
   },
   "source": [
    "# saving the result\n",
    "cv2.imwrite('raadafter.jpg',dst)"
   ],
   "execution_count": 41,
   "outputs": [
    {
     "data": {
      "text/plain": "True"
     },
     "execution_count": 41,
     "metadata": {},
     "output_type": "execute_result"
    }
   ]
  }
 ]
}
