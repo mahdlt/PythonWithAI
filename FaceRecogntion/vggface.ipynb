{
 "nbformat": 4,
 "nbformat_minor": 0,
 "metadata": {
  "colab": {
   "provenance": [],
   "gpuType": "T4"
  },
  "kernelspec": {
   "name": "python3",
   "language": "python",
   "display_name": "Python 3 (ipykernel)"
  },
  "language_info": {
   "name": "python"
  },
  "accelerator": "GPU"
 },
 "cells": [
  {
   "cell_type": "markdown",
   "source": [
    "### In this notebook, we utilized the pre-trained layers of the VGG-face framework, excluding the final two layers, to extract facial descriptors from images. These descriptors serve as numerical representations of facial features. We then employed the cosine similarity function to quantify the similarity between these descriptors and the original images from each class in our dataset. This process allowed us to determine which class or identity is most similar to the input image, effectively classifying the input image based on its facial features..."
   ],
   "metadata": {
    "collapsed": false
   }
  },
  {
   "cell_type": "code",
   "metadata": {
    "id": "_6K1g5GItTov",
    "ExecuteTime": {
     "end_time": "2023-09-07T06:15:49.854304400Z",
     "start_time": "2023-09-07T06:14:33.209589200Z"
    }
   },
   "source": [
    "from keras.models import *\n",
    "from keras.layers import *\n",
    "import numpy as np\n",
    "import cv2\n",
    "# from google.colab.patches import cv2_imshow\n",
    "from numpy import dot\n",
    "from numpy.linalg import norm\n",
    "import os\n",
    "import re"
   ],
   "execution_count": 1,
   "outputs": []
  },
  {
   "cell_type": "code",
   "metadata": {
    "id": "0HB0L2KPF-Um",
    "colab": {
     "base_uri": "https://localhost:8080/"
    },
    "outputId": "32f443d9-ca01-462a-ae83-f94fa0165b2b",
    "ExecuteTime": {
     "end_time": "2023-09-07T06:15:49.855307200Z",
     "start_time": "2023-09-07T06:15:49.770288Z"
    }
   },
   "source": [
    "# from google.colab import drive\n",
    "# drive.mount('/content/drive')"
   ],
   "execution_count": 2,
   "outputs": []
  },
  {
   "cell_type": "code",
   "metadata": {
    "id": "RU59zMeftyjM",
    "ExecuteTime": {
     "end_time": "2023-09-07T06:16:34.148155200Z",
     "start_time": "2023-09-07T06:15:49.808285Z"
    }
   },
   "source": [
    "# VGG face model \n",
    "# Extracted from https://sefiks.com/2018/08/06/deep-face-recognition-with-keras/\n",
    "\n",
    "model = Sequential()\n",
    "model.add(ZeroPadding2D((1,1),input_shape=(224,224, 3)))\n",
    "model.add(Convolution2D(64, (3, 3), activation='relu'))\n",
    "model.add(ZeroPadding2D((1,1)))\n",
    "model.add(Convolution2D(64, (3, 3), activation='relu'))\n",
    "model.add(MaxPooling2D((2,2), strides=(2,2)))\n",
    "\n",
    "model.add(ZeroPadding2D((1,1)))\n",
    "model.add(Convolution2D(128, (3, 3), activation='relu'))\n",
    "model.add(ZeroPadding2D((1,1)))\n",
    "model.add(Convolution2D(128, (3, 3), activation='relu'))\n",
    "model.add(MaxPooling2D((2,2), strides=(2,2)))\n",
    "\n",
    "model.add(ZeroPadding2D((1,1)))\n",
    "model.add(Convolution2D(256, (3, 3), activation='relu'))\n",
    "model.add(ZeroPadding2D((1,1)))\n",
    "model.add(Convolution2D(256, (3, 3), activation='relu'))\n",
    "model.add(ZeroPadding2D((1,1)))\n",
    "model.add(Convolution2D(256, (3, 3), activation='relu'))\n",
    "model.add(MaxPooling2D((2,2), strides=(2,2)))\n",
    "\n",
    "model.add(ZeroPadding2D((1,1)))\n",
    "model.add(Convolution2D(512, (3, 3), activation='relu'))\n",
    "model.add(ZeroPadding2D((1,1)))\n",
    "model.add(Convolution2D(512, (3, 3), activation='relu'))\n",
    "model.add(ZeroPadding2D((1,1)))\n",
    "model.add(Convolution2D(512, (3, 3), activation='relu'))\n",
    "model.add(MaxPooling2D((2,2), strides=(2,2)))\n",
    "\n",
    "model.add(ZeroPadding2D((1,1)))\n",
    "model.add(Convolution2D(512, (3, 3), activation='relu'))\n",
    "model.add(ZeroPadding2D((1,1)))\n",
    "model.add(Convolution2D(512, (3, 3), activation='relu'))\n",
    "model.add(ZeroPadding2D((1,1)))\n",
    "model.add(Convolution2D(512, (3, 3), activation='relu'))\n",
    "model.add(MaxPooling2D((2,2), strides=(2,2)))\n",
    "\n",
    "model.add(Convolution2D(4096, (7, 7), activation='relu'))\n",
    "model.add(Dropout(0.5))\n",
    "model.add(Convolution2D(4096, (1, 1), activation='relu'))\n",
    "model.add(Dropout(0.5))\n",
    "model.add(Convolution2D(2622, (1, 1)))\n",
    "model.add(Flatten())\n",
    "model.add(Activation('softmax'))"
   ],
   "execution_count": 3,
   "outputs": []
  },
  {
   "cell_type": "code",
   "metadata": {
    "colab": {
     "base_uri": "https://localhost:8080/"
    },
    "id": "QIQFXWzgt_pe",
    "outputId": "17c7ff2e-78c1-407e-c8a6-0168a987e8ce",
    "ExecuteTime": {
     "end_time": "2023-09-07T06:16:34.340611Z",
     "start_time": "2023-09-07T06:16:34.318885400Z"
    }
   },
   "source": [
    "# gdown https://github.com/serengil/deepface_models/releases/download/v1.0/vgg_face_weights.h5"
   ],
   "execution_count": 4,
   "outputs": []
  },
  {
   "cell_type": "code",
   "metadata": {
    "id": "N8Z4-V_Kuiik",
    "ExecuteTime": {
     "end_time": "2023-09-07T06:16:51.704884300Z",
     "start_time": "2023-09-07T06:16:34.392495500Z"
    }
   },
   "source": [
    "model.load_weights('vgg_face_weights.h5')"
   ],
   "execution_count": 5,
   "outputs": []
  },
  {
   "cell_type": "code",
   "execution_count": 9,
   "outputs": [
    {
     "name": "stdout",
     "output_type": "stream",
     "text": [
      "Successfully extracted contents to extracted_folder\n"
     ]
    }
   ],
   "source": [
    "import zipfile\n",
    "\n",
    "# Specify the path to the zip file you want to unzip\n",
    "zip_file_path = \"aligned_mahdi_hamed.zip\"\n",
    "\n",
    "# Specify the directory where you want to extract the contents of the zip file\n",
    "extracted_folder = \"extracted_folder\"\n",
    "\n",
    "# Create a ZipFile object\n",
    "with zipfile.ZipFile(zip_file_path, 'r') as zip_ref:\n",
    "    # Extract all the contents of the zip file to the specified directory\n",
    "    zip_ref.extractall(extracted_folder)\n",
    "\n",
    "print(f\"Successfully extracted contents to {extracted_folder}\")"
   ],
   "metadata": {
    "collapsed": false,
    "ExecuteTime": {
     "end_time": "2023-09-07T06:19:31.558894400Z",
     "start_time": "2023-09-07T06:19:31.499895200Z"
    }
   }
  },
  {
   "cell_type": "code",
   "source": [
    "# !unzip \"FaceRecogntion/aligned_mahdi_hamed.zip\""
   ],
   "metadata": {
    "colab": {
     "base_uri": "https://localhost:8080/"
    },
    "id": "CFQ2bvp1c-z6",
    "outputId": "8dca5a7f-b1de-415c-f698-0bfb45cba919",
    "ExecuteTime": {
     "end_time": "2023-09-07T08:39:53.567545900Z",
     "start_time": "2023-09-07T08:39:52.830948900Z"
    }
   },
   "execution_count": 32,
   "outputs": []
  },
  {
   "cell_type": "code",
   "metadata": {
    "id": "M8jAK8dJwtzN",
    "colab": {
     "base_uri": "https://localhost:8080/",
     "height": 200
    },
    "outputId": "2c79a4c9-0dbc-4a46-a909-de8a8e929886",
    "ExecuteTime": {
     "end_time": "2023-09-07T06:20:26.647405600Z",
     "start_time": "2023-09-07T06:20:26.494053200Z"
    }
   },
   "source": [
    "vgg_face_descriptor = Model(inputs=model.layers[0].input\n",
    ", outputs=model.layers[-2].output)"
   ],
   "execution_count": 10,
   "outputs": []
  },
  {
   "cell_type": "code",
   "metadata": {
    "id": "vEJpgeruw8vu",
    "ExecuteTime": {
     "end_time": "2023-09-07T06:23:31.504507400Z",
     "start_time": "2023-09-07T06:23:23.980225100Z"
    }
   },
   "source": [
    "img = cv2.imread(\"extracted_folder/aligned_mahdi_hamed/hamed (1).jpg\")\n",
    "cv2.imshow(\"hamed\", img)\n",
    "cv2.waitKey(0)\n",
    "cv2.destroyAllWindows()"
   ],
   "execution_count": 16,
   "outputs": []
  },
  {
   "cell_type": "code",
   "metadata": {
    "id": "UF8vzPEuxgP3",
    "ExecuteTime": {
     "end_time": "2023-09-07T06:24:06.350856700Z",
     "start_time": "2023-09-07T06:23:57.441608700Z"
    }
   },
   "source": [
    "img = cv2.imread(\"extracted_folder/aligned_mahdi_hamed/hamed (1).jpg\")\n",
    "img = cv2.resize(img, (224,224))\n",
    "img = np.expand_dims(img, axis=0)\n",
    "description = vgg_face_descriptor.predict(img)"
   ],
   "execution_count": 18,
   "outputs": [
    {
     "name": "stdout",
     "output_type": "stream",
     "text": [
      "1/1 [==============================] - 6s 6s/step\n"
     ]
    }
   ]
  },
  {
   "cell_type": "code",
   "metadata": {
    "id": "II6t7hFuyy3u",
    "ExecuteTime": {
     "end_time": "2023-09-07T06:26:37.854468600Z",
     "start_time": "2023-09-07T06:26:37.810485300Z"
    }
   },
   "source": [
    "def describe_img(imgname):\n",
    "  path = (\"extracted_folder/aligned_mahdi_hamed/\"+imgname+\".jpg\")\n",
    "  img = cv2.imread(path)\n",
    "  img = cv2.resize(img, (224,224),)\n",
    "  cv2.imshow(\"des\", img)\n",
    "  cv2.waitKey(0)\n",
    "  cv2.destroyAllWindows()\n",
    "  img = np.expand_dims(img, axis=0)\n",
    "  description = vgg_face_descriptor.predict(img)\n",
    "  description = description[0]\n",
    "  return description"
   ],
   "execution_count": 25,
   "outputs": []
  },
  {
   "cell_type": "code",
   "metadata": {
    "id": "KO5-3bhI1bk7",
    "ExecuteTime": {
     "end_time": "2023-09-07T06:26:48.278605100Z",
     "start_time": "2023-09-07T06:26:40.404454800Z"
    }
   },
   "source": [
    " hamed1 = describe_img(\"hamed (1)\")"
   ],
   "execution_count": 26,
   "outputs": [
    {
     "name": "stdout",
     "output_type": "stream",
     "text": [
      "1/1 [==============================] - 1s 556ms/step\n"
     ]
    }
   ]
  },
  {
   "cell_type": "code",
   "metadata": {
    "id": "pzvzVkQk1noD",
    "ExecuteTime": {
     "end_time": "2023-09-07T06:26:55.796045500Z",
     "start_time": "2023-09-07T06:26:52.895570800Z"
    }
   },
   "source": [
    "mehdi1 = describe_img(\"mahdi (1)\")"
   ],
   "execution_count": 27,
   "outputs": [
    {
     "name": "stdout",
     "output_type": "stream",
     "text": [
      "1/1 [==============================] - 1s 1s/step\n"
     ]
    }
   ]
  },
  {
   "cell_type": "code",
   "metadata": {
    "id": "wujwCFV23xwL",
    "ExecuteTime": {
     "end_time": "2023-09-07T06:28:31.606830700Z",
     "start_time": "2023-09-07T06:28:31.525536400Z"
    }
   },
   "source": [
    "def hamed_ya_mehdi(image):\n",
    "  desc = describe_img(image)\n",
    "  cos_sim_hamed = dot (desc , hamed1)/(norm(desc)*norm(hamed1))\n",
    "  cos_sim_mehdi = dot (desc , mehdi1)/(norm(desc)*norm(mehdi1))\n",
    "  if cos_sim_hamed >= 0.7:\n",
    "    out = image+\"  hamede\"\n",
    "  elif cos_sim_mehdi >= 0.7:\n",
    "    out = image+\"  mehdie\"\n",
    "  else:\n",
    "    out = image+\"na hamede na mehdiye\"\n",
    "  return out\n"
   ],
   "execution_count": 30,
   "outputs": []
  },
  {
   "cell_type": "code",
   "metadata": {
    "id": "ka7Htcy36R6p",
    "ExecuteTime": {
     "end_time": "2023-09-07T06:28:57.586216900Z",
     "start_time": "2023-09-07T06:28:32.138090Z"
    }
   },
   "source": [
    "directory = 'extracted_folder/aligned_mahdi_hamed/'\n",
    "for image_path in os.listdir(directory):\n",
    "  image_path = os.path.splitext(image_path)[0]\n",
    "  print(hamed_ya_mehdi(image_path))"
   ],
   "execution_count": 31,
   "outputs": [
    {
     "name": "stdout",
     "output_type": "stream",
     "text": [
      "1/1 [==============================] - 1s 751ms/step\n",
      "hamed (1)  hamede\n",
      "1/1 [==============================] - 1s 824ms/step\n",
      "hamed (2)  hamede\n",
      "1/1 [==============================] - 1s 816ms/step\n",
      "hamed (3)  hamede\n",
      "1/1 [==============================] - 1s 706ms/step\n",
      "hamed (4)  hamede\n",
      "1/1 [==============================] - 1s 753ms/step\n",
      "hamed (5)  hamede\n",
      "1/1 [==============================] - 1s 745ms/step\n",
      "hamed (6)  hamede\n",
      "1/1 [==============================] - 1s 530ms/step\n",
      "hamed (7)  hamede\n",
      "1/1 [==============================] - 1s 569ms/step\n",
      "mahdi (1)  mehdie\n",
      "1/1 [==============================] - 1s 552ms/step\n",
      "mahdi (2)  mehdie\n",
      "1/1 [==============================] - 1s 528ms/step\n",
      "mahdi (3)  mehdie\n",
      "1/1 [==============================] - 0s 464ms/step\n",
      "mahdi (4)  mehdie\n",
      "1/1 [==============================] - 0s 471ms/step\n",
      "mahdi (5)  mehdie\n",
      "1/1 [==============================] - 1s 539ms/step\n",
      "mahdi (6)  mehdie\n",
      "1/1 [==============================] - 0s 490ms/step\n",
      "mahdi (7)  mehdie\n"
     ]
    }
   ]
  },
  {
   "cell_type": "code",
   "metadata": {
    "id": "vr_vLNQ7uIDz"
   },
   "source": [],
   "execution_count": null,
   "outputs": []
  }
 ]
}
