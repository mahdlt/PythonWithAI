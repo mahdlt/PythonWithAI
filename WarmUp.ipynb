{
  "nbformat": 4,
  "nbformat_minor": 0,
  "metadata": {
    "colab": {
      "provenance": []
    },
    "kernelspec": {
      "name": "python3",
      "display_name": "Python 3"
    },
    "language_info": {
      "name": "python"
    }
  },
  "cells": [
    {
      "cell_type": "code",
      "metadata": {
        "colab": {
          "base_uri": "https://localhost:8080/"
        },
        "id": "CFmfknZ1yDbv",
        "outputId": "e3fb3249-e726-48dd-deb0-f7784938b45c"
      },
      "source": [
        "txt = open(\"m2.txt\").read()\n",
        "tx = list(txt.split( \"\\n\" ))\n",
        "for i in range(len(tx)):\n",
        "  t=list(tx[i].split(\",\"))\n",
        "  for j in range(len(t)-1):\n",
        "    z=list(t[j].split(\" \"))\n",
        "    x=list(t[j+1].split(\" \"))\n",
        "    if t[j]==\"\":\n",
        "      print(x[0])\n",
        "    elif t[j+1] ==\"\":\n",
        "      print(z[-1])\n",
        "    else:\n",
        "      print(z[-1]+\" \"+x[1])\n",
        ""
      ],
      "execution_count": null,
      "outputs": [
        {
          "output_type": "stream",
          "text": [
            "hasan mammad\n",
            "porteghal sib\n",
            "baff\n"
          ],
          "name": "stdout"
        }
      ]
    }
  ]
}